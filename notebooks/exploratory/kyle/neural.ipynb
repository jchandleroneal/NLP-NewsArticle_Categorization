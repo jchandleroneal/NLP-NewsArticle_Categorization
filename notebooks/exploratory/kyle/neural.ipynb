{
 "cells": [
  {
   "cell_type": "code",
   "execution_count": 2,
   "metadata": {},
   "outputs": [
    {
     "name": "stderr",
     "output_type": "stream",
     "text": [
      "<ipython-input-2-b97772079596>:14: FutureWarning: Passing a negative integer is deprecated in version 1.0 and will not be supported in future version. Instead, use None to not limit the column width.\n",
      "  pd.set_option('display.max_colwidth', -1)\n"
     ]
    }
   ],
   "source": [
    "import pandas as pd \r\n",
    "import tensorflow as tf\r\n",
    "from tensorflow import keras\r\n",
    "import numpy as np \r\n",
    "import matplotlib.pyplot as plt\r\n",
    "import os\r\n",
    "\r\n",
    "from tensorflow.keras.preprocessing.text import Tokenizer\r\n",
    "from tensorflow.keras.preprocessing.sequence import pad_sequences\r\n",
    "from sklearn.model_selection import train_test_split\r\n",
    "from sklearn.metrics import classification_report, confusion_matrix\r\n",
    "from tensorflow.keras.layers import Embedding\r\n",
    "import seaborn as sns\r\n",
    "pd.set_option('display.max_colwidth', -1)"
   ]
  },
  {
   "cell_type": "code",
   "execution_count": 2,
   "metadata": {},
   "outputs": [
    {
     "data": {
      "text/html": [
       "<div>\n",
       "<style scoped>\n",
       "    .dataframe tbody tr th:only-of-type {\n",
       "        vertical-align: middle;\n",
       "    }\n",
       "\n",
       "    .dataframe tbody tr th {\n",
       "        vertical-align: top;\n",
       "    }\n",
       "\n",
       "    .dataframe thead th {\n",
       "        text-align: right;\n",
       "    }\n",
       "</style>\n",
       "<table border=\"1\" class=\"dataframe\">\n",
       "  <thead>\n",
       "    <tr style=\"text-align: right;\">\n",
       "      <th></th>\n",
       "      <th>category</th>\n",
       "      <th>headline</th>\n",
       "      <th>short_description</th>\n",
       "    </tr>\n",
       "  </thead>\n",
       "  <tbody>\n",
       "    <tr>\n",
       "      <th>0</th>\n",
       "      <td>CRIME</td>\n",
       "      <td>There Were 2 Mass Shootings In Texas Last Week, But Only 1 On TV</td>\n",
       "      <td>She left her husband. He killed their children. Just another day in America.</td>\n",
       "    </tr>\n",
       "    <tr>\n",
       "      <th>1</th>\n",
       "      <td>ENTERTAINMENT</td>\n",
       "      <td>Will Smith Joins Diplo And Nicky Jam For The 2018 World Cup's Official Song</td>\n",
       "      <td>Of course it has a song.</td>\n",
       "    </tr>\n",
       "    <tr>\n",
       "      <th>2</th>\n",
       "      <td>ENTERTAINMENT</td>\n",
       "      <td>Hugh Grant Marries For The First Time At Age 57</td>\n",
       "      <td>The actor and his longtime girlfriend Anna Eberstein tied the knot in a civil ceremony.</td>\n",
       "    </tr>\n",
       "    <tr>\n",
       "      <th>3</th>\n",
       "      <td>ENTERTAINMENT</td>\n",
       "      <td>Jim Carrey Blasts 'Castrato' Adam Schiff And Democrats In New Artwork</td>\n",
       "      <td>The actor gives Dems an ass-kicking for not fighting hard enough against Donald Trump.</td>\n",
       "    </tr>\n",
       "    <tr>\n",
       "      <th>4</th>\n",
       "      <td>ENTERTAINMENT</td>\n",
       "      <td>Julianna Margulies Uses Donald Trump Poop Bags To Pick Up After Her Dog</td>\n",
       "      <td>The \"Dietland\" actress said using the bags is a \"really cathartic, therapeutic moment.\"</td>\n",
       "    </tr>\n",
       "  </tbody>\n",
       "</table>\n",
       "</div>"
      ],
      "text/plain": [
       "        category  \\\n",
       "0  CRIME           \n",
       "1  ENTERTAINMENT   \n",
       "2  ENTERTAINMENT   \n",
       "3  ENTERTAINMENT   \n",
       "4  ENTERTAINMENT   \n",
       "\n",
       "                                                                      headline  \\\n",
       "0  There Were 2 Mass Shootings In Texas Last Week, But Only 1 On TV              \n",
       "1  Will Smith Joins Diplo And Nicky Jam For The 2018 World Cup's Official Song   \n",
       "2  Hugh Grant Marries For The First Time At Age 57                               \n",
       "3  Jim Carrey Blasts 'Castrato' Adam Schiff And Democrats In New Artwork         \n",
       "4  Julianna Margulies Uses Donald Trump Poop Bags To Pick Up After Her Dog       \n",
       "\n",
       "                                                                         short_description  \n",
       "0  She left her husband. He killed their children. Just another day in America.             \n",
       "1  Of course it has a song.                                                                 \n",
       "2  The actor and his longtime girlfriend Anna Eberstein tied the knot in a civil ceremony.  \n",
       "3  The actor gives Dems an ass-kicking for not fighting hard enough against Donald Trump.   \n",
       "4  The \"Dietland\" actress said using the bags is a \"really cathartic, therapeutic moment.\"  "
      ]
     },
     "execution_count": 2,
     "metadata": {},
     "output_type": "execute_result"
    }
   ],
   "source": [
    "df = pd.read_json('../../../data/data.json', lines=True)\r\n",
    "df.drop(['authors', 'link', 'date'], axis = 1, inplace = True) \r\n",
    "df.head()"
   ]
  },
  {
   "cell_type": "code",
   "execution_count": 3,
   "metadata": {},
   "outputs": [],
   "source": [
    "categories = df['category'].value_counts().index\r\n",
    "\r\n",
    "def groupper(grouplist,name):\r\n",
    "    for ele in categories:\r\n",
    "        if ele in grouplist:\r\n",
    "            df.loc[df['category'] == ele, 'category'] = name"
   ]
  },
  {
   "cell_type": "code",
   "execution_count": 4,
   "metadata": {},
   "outputs": [],
   "source": [
    "groupper( grouplist= ['WELLNESS', 'HEALTHY LIVING','HOME & LIVING','STYLE & BEAUTY' ,'STYLE'] , name =  'LIFESTYLE AND WELLNESS')\r\n",
    "\r\n",
    "groupper( grouplist= [ 'PARENTING', 'PARENTS' ,'EDUCATION' ,'COLLEGE'] , name =  'PARENTING AND EDUCATION')\r\n",
    "\r\n",
    "groupper( grouplist= ['SPORTS','ENTERTAINMENT' , 'COMEDY','WEIRD NEWS','ARTS'] , name =  'SPORTS AND ENTERTAINMENT')\r\n",
    "\r\n",
    "groupper( grouplist= ['TRAVEL', 'ARTS & CULTURE','CULTURE & ARTS','FOOD & DRINK', 'TASTE'] , name =  'TRAVEL-TOURISM & ART-CULTURE')\r\n",
    "\r\n",
    "groupper( grouplist= ['WOMEN','QUEER VOICES', 'LATINO VOICES', 'BLACK VOICES'] , name =  'EMPOWERED VOICES')\r\n",
    "\r\n",
    "groupper( grouplist= ['BUSINESS' ,  'MONEY'] , name =  'BUSINESS-MONEY')\r\n",
    "\r\n",
    "groupper( grouplist= ['THE WORLDPOST' , 'WORLDPOST' , 'WORLD NEWS'] , name =  'WORLDNEWS')\r\n",
    "\r\n",
    "groupper( grouplist= ['ENVIRONMENT' ,'GREEN'] , name =  'ENVIRONMENT')\r\n",
    "\r\n",
    "groupper( grouplist= ['TECH', 'SCIENCE'] , name =  'SCIENCE AND TECH')\r\n",
    "\r\n",
    "groupper( grouplist= ['FIFTY' , 'IMPACT' ,'GOOD NEWS','CRIME'] , name =  'GENERAL')\r\n",
    "\r\n",
    "groupper( grouplist= ['WEDDINGS', 'DIVORCE',  'RELIGION','MEDIA'] , name =  'MISC')"
   ]
  },
  {
   "cell_type": "code",
   "execution_count": 5,
   "metadata": {},
   "outputs": [
    {
     "name": "stdout",
     "output_type": "stream",
     "text": [
      "We have a total of 12 categories now\n"
     ]
    },
    {
     "data": {
      "text/plain": [
       "LIFESTYLE AND WELLNESS          40619\n",
       "POLITICS                        32739\n",
       "SPORTS AND ENTERTAINMENT        30296\n",
       "TRAVEL-TOURISM & ART-CULTURE    20578\n",
       "EMPOWERED VOICES                15461\n",
       "PARENTING AND EDUCATION         14780\n",
       "MISC                            12448\n",
       "GENERAL                         9663 \n",
       "WORLDNEWS                       8420 \n",
       "BUSINESS-MONEY                  7644 \n",
       "SCIENCE AND TECH                4260 \n",
       "ENVIRONMENT                     3945 \n",
       "Name: category, dtype: int64"
      ]
     },
     "execution_count": 5,
     "metadata": {},
     "output_type": "execute_result"
    }
   ],
   "source": [
    "print(\"We have a total of {} categories now\".format(df['category'].nunique()))\r\n",
    "df['category'].value_counts()"
   ]
  },
  {
   "cell_type": "code",
   "execution_count": 6,
   "metadata": {},
   "outputs": [],
   "source": [
    "df2 = df.copy()"
   ]
  },
  {
   "cell_type": "code",
   "execution_count": 7,
   "metadata": {},
   "outputs": [
    {
     "name": "stdout",
     "output_type": "stream",
     "text": [
      "19712\n"
     ]
    }
   ],
   "source": [
    "print(len(df2[df2['short_description'] == \"\"]))"
   ]
  },
  {
   "cell_type": "code",
   "execution_count": 8,
   "metadata": {},
   "outputs": [
    {
     "data": {
      "text/html": [
       "<div>\n",
       "<style scoped>\n",
       "    .dataframe tbody tr th:only-of-type {\n",
       "        vertical-align: middle;\n",
       "    }\n",
       "\n",
       "    .dataframe tbody tr th {\n",
       "        vertical-align: top;\n",
       "    }\n",
       "\n",
       "    .dataframe thead th {\n",
       "        text-align: right;\n",
       "    }\n",
       "</style>\n",
       "<table border=\"1\" class=\"dataframe\">\n",
       "  <thead>\n",
       "    <tr style=\"text-align: right;\">\n",
       "      <th></th>\n",
       "      <th>category</th>\n",
       "      <th>text</th>\n",
       "    </tr>\n",
       "  </thead>\n",
       "  <tbody>\n",
       "    <tr>\n",
       "      <th>0</th>\n",
       "      <td>GENERAL</td>\n",
       "      <td>There Were 2 Mass Shootings In Texas Last Week, But Only 1 On TV-She left her husband. He killed their children. Just another day in America.</td>\n",
       "    </tr>\n",
       "    <tr>\n",
       "      <th>1</th>\n",
       "      <td>SPORTS AND ENTERTAINMENT</td>\n",
       "      <td>Will Smith Joins Diplo And Nicky Jam For The 2018 World Cup's Official Song-Of course it has a song.</td>\n",
       "    </tr>\n",
       "    <tr>\n",
       "      <th>2</th>\n",
       "      <td>SPORTS AND ENTERTAINMENT</td>\n",
       "      <td>Hugh Grant Marries For The First Time At Age 57-The actor and his longtime girlfriend Anna Eberstein tied the knot in a civil ceremony.</td>\n",
       "    </tr>\n",
       "    <tr>\n",
       "      <th>3</th>\n",
       "      <td>SPORTS AND ENTERTAINMENT</td>\n",
       "      <td>Jim Carrey Blasts 'Castrato' Adam Schiff And Democrats In New Artwork-The actor gives Dems an ass-kicking for not fighting hard enough against Donald Trump.</td>\n",
       "    </tr>\n",
       "    <tr>\n",
       "      <th>4</th>\n",
       "      <td>SPORTS AND ENTERTAINMENT</td>\n",
       "      <td>Julianna Margulies Uses Donald Trump Poop Bags To Pick Up After Her Dog-The \"Dietland\" actress said using the bags is a \"really cathartic, therapeutic moment.\"</td>\n",
       "    </tr>\n",
       "    <tr>\n",
       "      <th>...</th>\n",
       "      <td>...</td>\n",
       "      <td>...</td>\n",
       "    </tr>\n",
       "    <tr>\n",
       "      <th>200848</th>\n",
       "      <td>SCIENCE AND TECH</td>\n",
       "      <td>RIM CEO Thorsten Heins' 'Significant' Plans For BlackBerry-Verizon Wireless and AT&amp;T are already promoting LTE devices including smartphones and tablets from RIM's rivals. RIM's first</td>\n",
       "    </tr>\n",
       "    <tr>\n",
       "      <th>200849</th>\n",
       "      <td>SPORTS AND ENTERTAINMENT</td>\n",
       "      <td>Maria Sharapova Stunned By Victoria Azarenka In Australian Open Final-Afterward, Azarenka, more effusive with the press than normal, credited her coach of two years, Sam Sumyk, for his patient</td>\n",
       "    </tr>\n",
       "    <tr>\n",
       "      <th>200850</th>\n",
       "      <td>SPORTS AND ENTERTAINMENT</td>\n",
       "      <td>Giants Over Patriots, Jets Over Colts Among  Most Improbable Super Bowl Upsets Of All Time (VIDEOS)-Leading up to Super Bowl XLVI, the most talked about game could end up being one that occurred a few years ago. After all</td>\n",
       "    </tr>\n",
       "    <tr>\n",
       "      <th>200851</th>\n",
       "      <td>SPORTS AND ENTERTAINMENT</td>\n",
       "      <td>Aldon Smith Arrested: 49ers Linebacker Busted For DUI-CORRECTION: An earlier version of this story incorrectly stated the location of KTVU and the 2011 league leader in sacks</td>\n",
       "    </tr>\n",
       "    <tr>\n",
       "      <th>200852</th>\n",
       "      <td>SPORTS AND ENTERTAINMENT</td>\n",
       "      <td>Dwight Howard Rips Teammates After Magic Loss To Hornets-The five-time all-star center tore into his teammates Friday night after Orlando committed 23 turnovers en route to losing</td>\n",
       "    </tr>\n",
       "  </tbody>\n",
       "</table>\n",
       "<p>200853 rows × 2 columns</p>\n",
       "</div>"
      ],
      "text/plain": [
       "                        category  \\\n",
       "0       GENERAL                    \n",
       "1       SPORTS AND ENTERTAINMENT   \n",
       "2       SPORTS AND ENTERTAINMENT   \n",
       "3       SPORTS AND ENTERTAINMENT   \n",
       "4       SPORTS AND ENTERTAINMENT   \n",
       "...                          ...   \n",
       "200848  SCIENCE AND TECH           \n",
       "200849  SPORTS AND ENTERTAINMENT   \n",
       "200850  SPORTS AND ENTERTAINMENT   \n",
       "200851  SPORTS AND ENTERTAINMENT   \n",
       "200852  SPORTS AND ENTERTAINMENT   \n",
       "\n",
       "                                                                                                                                                                                                                                 text  \n",
       "0       There Were 2 Mass Shootings In Texas Last Week, But Only 1 On TV-She left her husband. He killed their children. Just another day in America.                                                                                  \n",
       "1       Will Smith Joins Diplo And Nicky Jam For The 2018 World Cup's Official Song-Of course it has a song.                                                                                                                           \n",
       "2       Hugh Grant Marries For The First Time At Age 57-The actor and his longtime girlfriend Anna Eberstein tied the knot in a civil ceremony.                                                                                        \n",
       "3       Jim Carrey Blasts 'Castrato' Adam Schiff And Democrats In New Artwork-The actor gives Dems an ass-kicking for not fighting hard enough against Donald Trump.                                                                   \n",
       "4       Julianna Margulies Uses Donald Trump Poop Bags To Pick Up After Her Dog-The \"Dietland\" actress said using the bags is a \"really cathartic, therapeutic moment.\"                                                                \n",
       "...                                                                                                                                                                 ...                                                                \n",
       "200848  RIM CEO Thorsten Heins' 'Significant' Plans For BlackBerry-Verizon Wireless and AT&T are already promoting LTE devices including smartphones and tablets from RIM's rivals. RIM's first                                        \n",
       "200849  Maria Sharapova Stunned By Victoria Azarenka In Australian Open Final-Afterward, Azarenka, more effusive with the press than normal, credited her coach of two years, Sam Sumyk, for his patient                               \n",
       "200850  Giants Over Patriots, Jets Over Colts Among  Most Improbable Super Bowl Upsets Of All Time (VIDEOS)-Leading up to Super Bowl XLVI, the most talked about game could end up being one that occurred a few years ago. After all  \n",
       "200851  Aldon Smith Arrested: 49ers Linebacker Busted For DUI-CORRECTION: An earlier version of this story incorrectly stated the location of KTVU and the 2011 league leader in sacks                                                 \n",
       "200852  Dwight Howard Rips Teammates After Magic Loss To Hornets-The five-time all-star center tore into his teammates Friday night after Orlando committed 23 turnovers en route to losing                                            \n",
       "\n",
       "[200853 rows x 2 columns]"
      ]
     },
     "execution_count": 8,
     "metadata": {},
     "output_type": "execute_result"
    }
   ],
   "source": [
    "df2['text'] = df2['headline'].astype(str)+\"-\"+df2['short_description']\r\n",
    "df2.drop(columns =['headline','short_description'],axis = 1, inplace=True)\r\n",
    "df2.astype(str)\r\n",
    "df2"
   ]
  },
  {
   "cell_type": "code",
   "execution_count": 9,
   "metadata": {},
   "outputs": [],
   "source": [
    "from sklearn.utils import shuffle\r\n",
    "df2 = shuffle(df2)\r\n",
    "df2.reset_index(inplace=True, drop=True) "
   ]
  },
  {
   "cell_type": "code",
   "execution_count": 13,
   "metadata": {},
   "outputs": [],
   "source": [
    "X = df2['text']\r\n",
    "Y= df2['category']\r\n",
    "#80% to train , 10% for validation , 10% for testing\r\n",
    "\r\n",
    "\r\n",
    "X_train, X_val, y_train, y_val = train_test_split(X,Y, test_size=0.2, random_state=42)\r\n",
    "X_val, X_test , y_val, y_test= train_test_split(X_val,y_val, test_size=0.5, random_state=42)"
   ]
  },
  {
   "cell_type": "code",
   "execution_count": 14,
   "metadata": {},
   "outputs": [],
   "source": [
    "vocab_size =20000\r\n",
    "max_length = 150\r\n",
    "trunc_type='post'\r\n",
    "padding_type='post'\r\n",
    "oov_tok = \"<OOV>\""
   ]
  },
  {
   "cell_type": "code",
   "execution_count": 15,
   "metadata": {},
   "outputs": [
    {
     "name": "stdout",
     "output_type": "stream",
     "text": [
      "(160682, 150)\n",
      "(160682, 12)\n",
      "(20085, 150)\n",
      "(20085, 12)\n"
     ]
    }
   ],
   "source": [
    "tokenizer = tf.keras.preprocessing.text.Tokenizer(num_words = vocab_size, oov_token=oov_tok)\r\n",
    "tokenizer.fit_on_texts(X_train)\r\n",
    "\r\n",
    "word_index = tokenizer.word_index\r\n",
    "\r\n",
    "X_train = tokenizer.texts_to_sequences(X_train)\r\n",
    "X_train = pad_sequences(X_train,maxlen= max_length,padding=padding_type, truncating=trunc_type)\r\n",
    "y_train = np.asarray(y_train)\r\n",
    "y_train = pd.get_dummies(y_train)\r\n",
    "\r\n",
    "X_val = tokenizer.texts_to_sequences(X_val)\r\n",
    "X_val = pad_sequences(X_val,maxlen= max_length,padding=padding_type, truncating=trunc_type)\r\n",
    "y_val = np.asarray(y_val)\r\n",
    "y_val = pd.get_dummies(y_val)\r\n",
    "\r\n",
    "train_set = np.array(X_train)\r\n",
    "val_set = np.array(X_val)\r\n",
    "\r\n",
    "train_label = np.array(y_train)\r\n",
    "val_label = np.array(y_val)\r\n",
    "\r\n",
    "\r\n",
    "y_test = pd.get_dummies(y_test)\r\n",
    "y_test = np.asarray(y_test)\r\n",
    "y_test = np.argmax(y_test,axis=1)   #this would be our ground truth label while testing\r\n",
    "\r\n",
    "print(train_set.shape)\r\n",
    "print(train_label.shape)\r\n",
    "\r\n",
    "\r\n",
    "print(val_set.shape)\r\n",
    "print(val_label.shape)"
   ]
  },
  {
   "cell_type": "code",
   "execution_count": 20,
   "metadata": {},
   "outputs": [],
   "source": [
    "path_to_glove_file =  '../../../../../glove.6B.100d.txt'"
   ]
  },
  {
   "cell_type": "code",
   "execution_count": 22,
   "metadata": {},
   "outputs": [
    {
     "name": "stdout",
     "output_type": "stream",
     "text": [
      "Found 400001 word vectors.\n",
      "Converted 66004 words (38804 misses)\n"
     ]
    }
   ],
   "source": [
    "#Initialising the embedding matrix with glove vec embeddings\r\n",
    "\r\n",
    "num_tokens = len(tokenizer.word_index.items()) + 2\r\n",
    "embedding_dim = 100\r\n",
    "hits = 0\r\n",
    "misses = 0\r\n",
    "\r\n",
    "\r\n",
    "embeddings_index = {}\r\n",
    "with open(path_to_glove_file, encoding=\"utf8\" ) as f:\r\n",
    "    for line in f:\r\n",
    "        word, coefs = line.split(maxsplit=1)\r\n",
    "        coefs = np.fromstring(coefs, \"f\", sep=\" \")\r\n",
    "        embeddings_index[word] = coefs\r\n",
    "\r\n",
    "print(\"Found %s word vectors.\" % len(embeddings_index))\r\n",
    "\r\n",
    "\r\n",
    "# Prepare embedding matrix\r\n",
    "embedding_matrix = np.zeros((num_tokens, embedding_dim))\r\n",
    "for word, i in tokenizer.word_index.items():\r\n",
    "    embedding_vector = embeddings_index.get(word)\r\n",
    "    if embedding_vector is not None:\r\n",
    "        # Words not found in embedding index will be all-zeros.\r\n",
    "        # This includes the representation for \"padding\" and \"OOV\"\r\n",
    "        embedding_matrix[i] = embedding_vector\r\n",
    "        hits += 1\r\n",
    "    else:\r\n",
    "        misses += 1\r\n",
    "print(\"Converted %d words (%d misses)\" % (hits, misses))"
   ]
  },
  {
   "cell_type": "code",
   "execution_count": 26,
   "metadata": {},
   "outputs": [
    {
     "name": "stdout",
     "output_type": "stream",
     "text": [
      "Model: \"sequential\"\n",
      "_________________________________________________________________\n",
      "Layer (type)                 Output Shape              Param #   \n",
      "=================================================================\n",
      "embedding (Embedding)        (None, None, 100)         10481000  \n",
      "_________________________________________________________________\n",
      "bidirectional (Bidirectional (None, 64)                34048     \n",
      "_________________________________________________________________\n",
      "dense (Dense)                (None, 12)                780       \n",
      "=================================================================\n",
      "Total params: 10,515,828\n",
      "Trainable params: 34,828\n",
      "Non-trainable params: 10,481,000\n",
      "_________________________________________________________________\n"
     ]
    }
   ],
   "source": [
    "early_stop=tf.keras.callbacks.EarlyStopping(monitor='val_loss', \r\n",
    "                                            patience=3, min_delta=0.0001)\r\n",
    "\r\n",
    "\r\n",
    "tf.keras.backend.clear_session()\r\n",
    "embed_size = 100\r\n",
    "model = keras.models.Sequential([\r\n",
    "                                 \r\n",
    "        Embedding(num_tokens,\r\n",
    "        embedding_dim,\r\n",
    "        embeddings_initializer=keras.initializers.Constant(embedding_matrix),\r\n",
    "        mask_zero=True,input_shape=[None],trainable=False),\r\n",
    "        keras.layers.Bidirectional(keras.layers.LSTM(32, dropout = 0.4)),\r\n",
    "        keras.layers.Dense(12, activation=\"softmax\")\r\n",
    "            \r\n",
    "        ])\r\n",
    "\r\n",
    "\r\n",
    "model.summary()"
   ]
  },
  {
   "cell_type": "code",
   "execution_count": 27,
   "metadata": {},
   "outputs": [
    {
     "name": "stdout",
     "output_type": "stream",
     "text": [
      "Epoch 1/20\n",
      "5021/5021 [==============================] - 345s 69ms/step - loss: 1.2954 - accuracy: 0.5842 - val_loss: 1.0726 - val_accuracy: 0.6552\n",
      "Epoch 2/20\n",
      "5021/5021 [==============================] - 364s 73ms/step - loss: 1.1080 - accuracy: 0.6450 - val_loss: 1.0247 - val_accuracy: 0.6674\n",
      "Epoch 3/20\n",
      "5021/5021 [==============================] - 369s 73ms/step - loss: 1.0676 - accuracy: 0.6569 - val_loss: 0.9992 - val_accuracy: 0.6755\n",
      "Epoch 4/20\n",
      "5021/5021 [==============================] - 376s 75ms/step - loss: 1.0439 - accuracy: 0.6652 - val_loss: 0.9884 - val_accuracy: 0.6824\n",
      "Epoch 5/20\n",
      "5021/5021 [==============================] - 364s 72ms/step - loss: 1.0295 - accuracy: 0.6684 - val_loss: 0.9741 - val_accuracy: 0.6887\n",
      "Epoch 6/20\n",
      "5021/5021 [==============================] - 371s 74ms/step - loss: 1.0213 - accuracy: 0.6712 - val_loss: 0.9643 - val_accuracy: 0.6902\n",
      "Epoch 7/20\n",
      "5021/5021 [==============================] - 396s 79ms/step - loss: 1.0117 - accuracy: 0.6738 - val_loss: 0.9657 - val_accuracy: 0.6887\n",
      "Epoch 8/20\n",
      "5021/5021 [==============================] - 361s 72ms/step - loss: 1.0054 - accuracy: 0.6759 - val_loss: 0.9565 - val_accuracy: 0.6923\n",
      "Epoch 9/20\n",
      "5021/5021 [==============================] - 367s 73ms/step - loss: 1.0029 - accuracy: 0.6770 - val_loss: 0.9563 - val_accuracy: 0.6914\n",
      "Epoch 10/20\n",
      "5021/5021 [==============================] - 371s 74ms/step - loss: 0.9973 - accuracy: 0.6777 - val_loss: 0.9521 - val_accuracy: 0.6928\n",
      "Epoch 11/20\n",
      "5021/5021 [==============================] - 415s 83ms/step - loss: 0.9942 - accuracy: 0.6784 - val_loss: 0.9520 - val_accuracy: 0.6937\n",
      "Epoch 12/20\n",
      "5021/5021 [==============================] - 426s 85ms/step - loss: 0.9882 - accuracy: 0.6803 - val_loss: 0.9499 - val_accuracy: 0.6961\n",
      "Epoch 13/20\n",
      "5021/5021 [==============================] - 418s 83ms/step - loss: 0.9870 - accuracy: 0.6805 - val_loss: 0.9508 - val_accuracy: 0.6962\n",
      "Epoch 14/20\n",
      "5021/5021 [==============================] - 353s 70ms/step - loss: 0.9849 - accuracy: 0.6802 - val_loss: 0.9454 - val_accuracy: 0.6973\n",
      "Epoch 15/20\n",
      "5021/5021 [==============================] - 329s 65ms/step - loss: 0.9842 - accuracy: 0.6819 - val_loss: 0.9479 - val_accuracy: 0.6965\n",
      "Epoch 16/20\n",
      "5021/5021 [==============================] - 393s 78ms/step - loss: 0.9796 - accuracy: 0.6831 - val_loss: 0.9427 - val_accuracy: 0.6981\n",
      "Epoch 17/20\n",
      "5021/5021 [==============================] - 374s 74ms/step - loss: 0.9785 - accuracy: 0.6839 - val_loss: 0.9446 - val_accuracy: 0.6955\n",
      "Epoch 18/20\n",
      "5021/5021 [==============================] - 323s 64ms/step - loss: 0.9756 - accuracy: 0.6848 - val_loss: 0.9444 - val_accuracy: 0.6948\n",
      "Epoch 19/20\n",
      "5021/5021 [==============================] - 365s 73ms/step - loss: 0.9750 - accuracy: 0.6850 - val_loss: 0.9404 - val_accuracy: 0.6967\n",
      "Epoch 20/20\n",
      "5021/5021 [==============================] - 384s 77ms/step - loss: 0.9733 - accuracy: 0.6842 - val_loss: 0.9346 - val_accuracy: 0.6995\n"
     ]
    }
   ],
   "source": [
    "opt = keras.optimizers.Adam(learning_rate=0.001)\r\n",
    "model.compile(loss=\"categorical_crossentropy\", optimizer=opt, metrics=[\"accuracy\"])\r\n",
    "history = model.fit( train_set,train_label,\r\n",
    "                     batch_size = 32,\r\n",
    "                     steps_per_epoch=len(X_train) // 32, \r\n",
    "                     validation_data = (val_set , val_label),\r\n",
    "                     validation_steps = len(val_set)//32, epochs=20,\r\n",
    "                     callbacks=  early_stop )"
   ]
  },
  {
   "cell_type": "code",
   "execution_count": 41,
   "metadata": {},
   "outputs": [],
   "source": [
    "model.save('./best_model2')"
   ]
  },
  {
   "cell_type": "code",
   "execution_count": 3,
   "metadata": {},
   "outputs": [],
   "source": [
    "model3 = keras.models.load_model('./best_model')\r\n"
   ]
  },
  {
   "cell_type": "code",
   "execution_count": 4,
   "metadata": {},
   "outputs": [
    {
     "ename": "UnimplementedError",
     "evalue": " Cast string to float is not supported\n\t [[node sequential/Cast (defined at <ipython-input-4-97feccca2661>:3) ]] [Op:__inference_predict_function_46558]\n\nFunction call stack:\npredict_function\n",
     "output_type": "error",
     "traceback": [
      "\u001b[1;31m---------------------------------------------------------------------------\u001b[0m",
      "\u001b[1;31mUnimplementedError\u001b[0m                        Traceback (most recent call last)",
      "\u001b[1;32m<ipython-input-4-97feccca2661>\u001b[0m in \u001b[0;36m<module>\u001b[1;34m\u001b[0m\n\u001b[0;32m      1\u001b[0m \u001b[0mtext_1\u001b[0m \u001b[1;33m=\u001b[0m \u001b[1;34m'Pelosi: Biden Can’t Cancel Student Debt '\u001b[0m\u001b[1;33m\u001b[0m\u001b[1;33m\u001b[0m\u001b[0m\n\u001b[0;32m      2\u001b[0m \u001b[0mtext_2\u001b[0m \u001b[1;33m=\u001b[0m \u001b[1;34m\"Feds Take on Student Homelessness\"\u001b[0m\u001b[1;33m\u001b[0m\u001b[1;33m\u001b[0m\u001b[0m\n\u001b[1;32m----> 3\u001b[1;33m \u001b[0mprint\u001b[0m\u001b[1;33m(\u001b[0m\u001b[0mmodel3\u001b[0m\u001b[1;33m.\u001b[0m\u001b[0mpredict\u001b[0m\u001b[1;33m(\u001b[0m\u001b[1;33m[\u001b[0m\u001b[0mtext_1\u001b[0m\u001b[1;33m,\u001b[0m \u001b[0mtext_2\u001b[0m\u001b[1;33m]\u001b[0m\u001b[1;33m)\u001b[0m\u001b[1;33m)\u001b[0m\u001b[1;33m\u001b[0m\u001b[1;33m\u001b[0m\u001b[0m\n\u001b[0m",
      "\u001b[1;32m~\\anaconda3\\envs\\learn-env\\lib\\site-packages\\tensorflow\\python\\keras\\engine\\training.py\u001b[0m in \u001b[0;36m_method_wrapper\u001b[1;34m(self, *args, **kwargs)\u001b[0m\n\u001b[0;32m    128\u001b[0m       raise ValueError('{} is not supported in multi-worker mode.'.format(\n\u001b[0;32m    129\u001b[0m           method.__name__))\n\u001b[1;32m--> 130\u001b[1;33m     \u001b[1;32mreturn\u001b[0m \u001b[0mmethod\u001b[0m\u001b[1;33m(\u001b[0m\u001b[0mself\u001b[0m\u001b[1;33m,\u001b[0m \u001b[1;33m*\u001b[0m\u001b[0margs\u001b[0m\u001b[1;33m,\u001b[0m \u001b[1;33m**\u001b[0m\u001b[0mkwargs\u001b[0m\u001b[1;33m)\u001b[0m\u001b[1;33m\u001b[0m\u001b[1;33m\u001b[0m\u001b[0m\n\u001b[0m\u001b[0;32m    131\u001b[0m \u001b[1;33m\u001b[0m\u001b[0m\n\u001b[0;32m    132\u001b[0m   return tf_decorator.make_decorator(\n",
      "\u001b[1;32m~\\anaconda3\\envs\\learn-env\\lib\\site-packages\\tensorflow\\python\\keras\\engine\\training.py\u001b[0m in \u001b[0;36mpredict\u001b[1;34m(self, x, batch_size, verbose, steps, callbacks, max_queue_size, workers, use_multiprocessing)\u001b[0m\n\u001b[0;32m   1597\u001b[0m           \u001b[1;32mfor\u001b[0m \u001b[0mstep\u001b[0m \u001b[1;32min\u001b[0m \u001b[0mdata_handler\u001b[0m\u001b[1;33m.\u001b[0m\u001b[0msteps\u001b[0m\u001b[1;33m(\u001b[0m\u001b[1;33m)\u001b[0m\u001b[1;33m:\u001b[0m\u001b[1;33m\u001b[0m\u001b[1;33m\u001b[0m\u001b[0m\n\u001b[0;32m   1598\u001b[0m             \u001b[0mcallbacks\u001b[0m\u001b[1;33m.\u001b[0m\u001b[0mon_predict_batch_begin\u001b[0m\u001b[1;33m(\u001b[0m\u001b[0mstep\u001b[0m\u001b[1;33m)\u001b[0m\u001b[1;33m\u001b[0m\u001b[1;33m\u001b[0m\u001b[0m\n\u001b[1;32m-> 1599\u001b[1;33m             \u001b[0mtmp_batch_outputs\u001b[0m \u001b[1;33m=\u001b[0m \u001b[0mpredict_function\u001b[0m\u001b[1;33m(\u001b[0m\u001b[0miterator\u001b[0m\u001b[1;33m)\u001b[0m\u001b[1;33m\u001b[0m\u001b[1;33m\u001b[0m\u001b[0m\n\u001b[0m\u001b[0;32m   1600\u001b[0m             \u001b[1;32mif\u001b[0m \u001b[0mdata_handler\u001b[0m\u001b[1;33m.\u001b[0m\u001b[0mshould_sync\u001b[0m\u001b[1;33m:\u001b[0m\u001b[1;33m\u001b[0m\u001b[1;33m\u001b[0m\u001b[0m\n\u001b[0;32m   1601\u001b[0m               \u001b[0mcontext\u001b[0m\u001b[1;33m.\u001b[0m\u001b[0masync_wait\u001b[0m\u001b[1;33m(\u001b[0m\u001b[1;33m)\u001b[0m\u001b[1;33m\u001b[0m\u001b[1;33m\u001b[0m\u001b[0m\n",
      "\u001b[1;32m~\\anaconda3\\envs\\learn-env\\lib\\site-packages\\tensorflow\\python\\eager\\def_function.py\u001b[0m in \u001b[0;36m__call__\u001b[1;34m(self, *args, **kwds)\u001b[0m\n\u001b[0;32m    778\u001b[0m       \u001b[1;32melse\u001b[0m\u001b[1;33m:\u001b[0m\u001b[1;33m\u001b[0m\u001b[1;33m\u001b[0m\u001b[0m\n\u001b[0;32m    779\u001b[0m         \u001b[0mcompiler\u001b[0m \u001b[1;33m=\u001b[0m \u001b[1;34m\"nonXla\"\u001b[0m\u001b[1;33m\u001b[0m\u001b[1;33m\u001b[0m\u001b[0m\n\u001b[1;32m--> 780\u001b[1;33m         \u001b[0mresult\u001b[0m \u001b[1;33m=\u001b[0m \u001b[0mself\u001b[0m\u001b[1;33m.\u001b[0m\u001b[0m_call\u001b[0m\u001b[1;33m(\u001b[0m\u001b[1;33m*\u001b[0m\u001b[0margs\u001b[0m\u001b[1;33m,\u001b[0m \u001b[1;33m**\u001b[0m\u001b[0mkwds\u001b[0m\u001b[1;33m)\u001b[0m\u001b[1;33m\u001b[0m\u001b[1;33m\u001b[0m\u001b[0m\n\u001b[0m\u001b[0;32m    781\u001b[0m \u001b[1;33m\u001b[0m\u001b[0m\n\u001b[0;32m    782\u001b[0m       \u001b[0mnew_tracing_count\u001b[0m \u001b[1;33m=\u001b[0m \u001b[0mself\u001b[0m\u001b[1;33m.\u001b[0m\u001b[0m_get_tracing_count\u001b[0m\u001b[1;33m(\u001b[0m\u001b[1;33m)\u001b[0m\u001b[1;33m\u001b[0m\u001b[1;33m\u001b[0m\u001b[0m\n",
      "\u001b[1;32m~\\anaconda3\\envs\\learn-env\\lib\\site-packages\\tensorflow\\python\\eager\\def_function.py\u001b[0m in \u001b[0;36m_call\u001b[1;34m(self, *args, **kwds)\u001b[0m\n\u001b[0;32m    844\u001b[0m               *args, **kwds)\n\u001b[0;32m    845\u001b[0m       \u001b[1;31m# If we did not create any variables the trace we have is good enough.\u001b[0m\u001b[1;33m\u001b[0m\u001b[1;33m\u001b[0m\u001b[1;33m\u001b[0m\u001b[0m\n\u001b[1;32m--> 846\u001b[1;33m       \u001b[1;32mreturn\u001b[0m \u001b[0mself\u001b[0m\u001b[1;33m.\u001b[0m\u001b[0m_concrete_stateful_fn\u001b[0m\u001b[1;33m.\u001b[0m\u001b[0m_filtered_call\u001b[0m\u001b[1;33m(\u001b[0m\u001b[0mcanon_args\u001b[0m\u001b[1;33m,\u001b[0m \u001b[0mcanon_kwds\u001b[0m\u001b[1;33m)\u001b[0m  \u001b[1;31m# pylint: disable=protected-access\u001b[0m\u001b[1;33m\u001b[0m\u001b[1;33m\u001b[0m\u001b[0m\n\u001b[0m\u001b[0;32m    847\u001b[0m \u001b[1;33m\u001b[0m\u001b[0m\n\u001b[0;32m    848\u001b[0m     \u001b[1;32mdef\u001b[0m \u001b[0mfn_with_cond\u001b[0m\u001b[1;33m(\u001b[0m\u001b[1;33m*\u001b[0m\u001b[0minner_args\u001b[0m\u001b[1;33m,\u001b[0m \u001b[1;33m**\u001b[0m\u001b[0minner_kwds\u001b[0m\u001b[1;33m)\u001b[0m\u001b[1;33m:\u001b[0m\u001b[1;33m\u001b[0m\u001b[1;33m\u001b[0m\u001b[0m\n",
      "\u001b[1;32m~\\anaconda3\\envs\\learn-env\\lib\\site-packages\\tensorflow\\python\\eager\\function.py\u001b[0m in \u001b[0;36m_filtered_call\u001b[1;34m(self, args, kwargs, cancellation_manager)\u001b[0m\n\u001b[0;32m   1841\u001b[0m       \u001b[0;31m`\u001b[0m\u001b[0margs\u001b[0m\u001b[0;31m`\u001b[0m \u001b[1;32mand\u001b[0m\u001b[0;31m \u001b[0m\u001b[0;31m`\u001b[0m\u001b[0mkwargs\u001b[0m\u001b[0;31m`\u001b[0m\u001b[1;33m.\u001b[0m\u001b[1;33m\u001b[0m\u001b[1;33m\u001b[0m\u001b[0m\n\u001b[0;32m   1842\u001b[0m     \"\"\"\n\u001b[1;32m-> 1843\u001b[1;33m     return self._call_flat(\n\u001b[0m\u001b[0;32m   1844\u001b[0m         [t for t in nest.flatten((args, kwargs), expand_composites=True)\n\u001b[0;32m   1845\u001b[0m          if isinstance(t, (ops.Tensor,\n",
      "\u001b[1;32m~\\anaconda3\\envs\\learn-env\\lib\\site-packages\\tensorflow\\python\\eager\\function.py\u001b[0m in \u001b[0;36m_call_flat\u001b[1;34m(self, args, captured_inputs, cancellation_manager)\u001b[0m\n\u001b[0;32m   1921\u001b[0m         and executing_eagerly):\n\u001b[0;32m   1922\u001b[0m       \u001b[1;31m# No tape is watching; skip to running the function.\u001b[0m\u001b[1;33m\u001b[0m\u001b[1;33m\u001b[0m\u001b[1;33m\u001b[0m\u001b[0m\n\u001b[1;32m-> 1923\u001b[1;33m       return self._build_call_outputs(self._inference_function.call(\n\u001b[0m\u001b[0;32m   1924\u001b[0m           ctx, args, cancellation_manager=cancellation_manager))\n\u001b[0;32m   1925\u001b[0m     forward_backward = self._select_forward_and_backward_functions(\n",
      "\u001b[1;32m~\\anaconda3\\envs\\learn-env\\lib\\site-packages\\tensorflow\\python\\eager\\function.py\u001b[0m in \u001b[0;36mcall\u001b[1;34m(self, ctx, args, cancellation_manager)\u001b[0m\n\u001b[0;32m    543\u001b[0m       \u001b[1;32mwith\u001b[0m \u001b[0m_InterpolateFunctionError\u001b[0m\u001b[1;33m(\u001b[0m\u001b[0mself\u001b[0m\u001b[1;33m)\u001b[0m\u001b[1;33m:\u001b[0m\u001b[1;33m\u001b[0m\u001b[1;33m\u001b[0m\u001b[0m\n\u001b[0;32m    544\u001b[0m         \u001b[1;32mif\u001b[0m \u001b[0mcancellation_manager\u001b[0m \u001b[1;32mis\u001b[0m \u001b[1;32mNone\u001b[0m\u001b[1;33m:\u001b[0m\u001b[1;33m\u001b[0m\u001b[1;33m\u001b[0m\u001b[0m\n\u001b[1;32m--> 545\u001b[1;33m           outputs = execute.execute(\n\u001b[0m\u001b[0;32m    546\u001b[0m               \u001b[0mstr\u001b[0m\u001b[1;33m(\u001b[0m\u001b[0mself\u001b[0m\u001b[1;33m.\u001b[0m\u001b[0msignature\u001b[0m\u001b[1;33m.\u001b[0m\u001b[0mname\u001b[0m\u001b[1;33m)\u001b[0m\u001b[1;33m,\u001b[0m\u001b[1;33m\u001b[0m\u001b[1;33m\u001b[0m\u001b[0m\n\u001b[0;32m    547\u001b[0m               \u001b[0mnum_outputs\u001b[0m\u001b[1;33m=\u001b[0m\u001b[0mself\u001b[0m\u001b[1;33m.\u001b[0m\u001b[0m_num_outputs\u001b[0m\u001b[1;33m,\u001b[0m\u001b[1;33m\u001b[0m\u001b[1;33m\u001b[0m\u001b[0m\n",
      "\u001b[1;32m~\\anaconda3\\envs\\learn-env\\lib\\site-packages\\tensorflow\\python\\eager\\execute.py\u001b[0m in \u001b[0;36mquick_execute\u001b[1;34m(op_name, num_outputs, inputs, attrs, ctx, name)\u001b[0m\n\u001b[0;32m     57\u001b[0m   \u001b[1;32mtry\u001b[0m\u001b[1;33m:\u001b[0m\u001b[1;33m\u001b[0m\u001b[1;33m\u001b[0m\u001b[0m\n\u001b[0;32m     58\u001b[0m     \u001b[0mctx\u001b[0m\u001b[1;33m.\u001b[0m\u001b[0mensure_initialized\u001b[0m\u001b[1;33m(\u001b[0m\u001b[1;33m)\u001b[0m\u001b[1;33m\u001b[0m\u001b[1;33m\u001b[0m\u001b[0m\n\u001b[1;32m---> 59\u001b[1;33m     tensors = pywrap_tfe.TFE_Py_Execute(ctx._handle, device_name, op_name,\n\u001b[0m\u001b[0;32m     60\u001b[0m                                         inputs, attrs, num_outputs)\n\u001b[0;32m     61\u001b[0m   \u001b[1;32mexcept\u001b[0m \u001b[0mcore\u001b[0m\u001b[1;33m.\u001b[0m\u001b[0m_NotOkStatusException\u001b[0m \u001b[1;32mas\u001b[0m \u001b[0me\u001b[0m\u001b[1;33m:\u001b[0m\u001b[1;33m\u001b[0m\u001b[1;33m\u001b[0m\u001b[0m\n",
      "\u001b[1;31mUnimplementedError\u001b[0m:  Cast string to float is not supported\n\t [[node sequential/Cast (defined at <ipython-input-4-97feccca2661>:3) ]] [Op:__inference_predict_function_46558]\n\nFunction call stack:\npredict_function\n"
     ]
    }
   ],
   "source": [
    "text_1 = 'Pelosi: Biden Can’t Cancel Student Debt '\r\n",
    "text_2 = \"Feds Take on Student Homelessness\"\r\n",
    "print(model3.predict([text_1, text_2]))"
   ]
  },
  {
   "cell_type": "code",
   "execution_count": 6,
   "metadata": {},
   "outputs": [
    {
     "ename": "SyntaxError",
     "evalue": "unexpected EOF while parsing (<ipython-input-6-2eacee4aa4da>, line 2)",
     "output_type": "error",
     "traceback": [
      "\u001b[1;36m  File \u001b[1;32m\"<ipython-input-6-2eacee4aa4da>\"\u001b[1;36m, line \u001b[1;32m2\u001b[0m\n\u001b[1;33m    \u001b[0m\n\u001b[1;37m    ^\u001b[0m\n\u001b[1;31mSyntaxError\u001b[0m\u001b[1;31m:\u001b[0m unexpected EOF while parsing\n"
     ]
    }
   ],
   "source": [
    "np.testing.assert_allclose(model3.predict('Pelosi: Biden Can’t Cancel Student Debt ')\r\n"
   ]
  },
  {
   "cell_type": "code",
   "execution_count": null,
   "metadata": {},
   "outputs": [],
   "source": []
  }
 ],
 "metadata": {
  "interpreter": {
   "hash": "8e152902236d0ddc17cab15fa4740f8c30870419133c500d5ccb5dc7eb029fd5"
  },
  "kernelspec": {
   "display_name": "learn-env",
   "language": "python",
   "name": "python3"
  },
  "language_info": {
   "codemirror_mode": {
    "name": "ipython",
    "version": 3
   },
   "file_extension": ".py",
   "mimetype": "text/x-python",
   "name": "python",
   "nbconvert_exporter": "python",
   "pygments_lexer": "ipython3",
   "version": "3.8.5"
  }
 },
 "nbformat": 4,
 "nbformat_minor": 4
}
